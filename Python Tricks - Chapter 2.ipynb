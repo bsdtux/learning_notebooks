{
 "cells": [
  {
   "cell_type": "code",
   "execution_count": null,
   "metadata": {},
   "outputs": [],
   "source": [
    "\"\"\"\n",
    "Chapter 2: \n",
    " - Context Managers\n",
    " - Unders and Dunders\n",
    " - The old, the new, and the other (printing in python)\n",
    "\"\"\""
   ]
  },
  {
   "cell_type": "markdown",
   "metadata": {},
   "source": [
    "## Context Managers \n",
    "Context managers\n",
    " - Allows for allocation and deallocation of resources in a safe maner\n",
    " - Usually paired with the with keyword"
   ]
  },
  {
   "cell_type": "code",
   "execution_count": null,
   "metadata": {},
   "outputs": [],
   "source": [
    "# A unsafe way to save data to a file\n",
    "f = open('add.txt', 'w')\n",
    "for i in range(0, 5):\n",
    "    f.write(f'{i}\\n')\n",
    "f.close()"
   ]
  },
  {
   "cell_type": "markdown",
   "metadata": {},
   "source": [
    "What makes this unsafe, the fact that if at any point our app crashes or there is a bug\n",
    "then the file handle could be left open thus causing system resource leakage\n",
    "\n",
    "So how do we fix it...\n"
   ]
  },
  {
   "cell_type": "code",
   "execution_count": null,
   "metadata": {},
   "outputs": [],
   "source": [
    "# a safer way to work with files\n",
    "with open('add2.txt', 'w') as f:\n",
    "    for i in range(0, 5):\n",
    "        f.write(f'{i}\\n')"
   ]
  },
  {
   "cell_type": "markdown",
   "metadata": {},
   "source": [
    "Writing context manager above is safe because it handles the allocation and deallocation in a way that it is like being wrapped up in a try block like the example below\n",
    "\n",
    "```python\n",
    "try:\n",
    "    f = open('add2.txt', 'w')\n",
    "    for i in range(0, 5):\n",
    "        f.write(f'{i}\\n')\n",
    "finally:\n",
    "    f.close()\n",
    "``` "
   ]
  },
  {
   "cell_type": "markdown",
   "metadata": {},
   "source": [
    "But what if we wanted to write a class as a context manager, how would that work"
   ]
  },
  {
   "cell_type": "code",
   "execution_count": null,
   "metadata": {},
   "outputs": [],
   "source": [
    "class MyFileWriter:\n",
    "    def __init__(self, file_name, file_mode='r'):\n",
    "        self.file_name = file_name\n",
    "        self.file_mode = file_mode\n",
    "    def __enter__(self):\n",
    "        print(f\"Opening File {self.file_name}\")\n",
    "        self.file = open(self.file_name, self.file_mode)\n",
    "        return self.file\n",
    "    def __exit__(self, exc_type, exc_value, traceback):\n",
    "        print(f\"Closing File {self.file_name}\")\n",
    "        self.file.close()\n",
    "\n",
    "with MyFileWriter('test.txt', 'w') as f:\n",
    "    f.write('This is my simple example\\n')\n"
   ]
  },
  {
   "cell_type": "markdown",
   "metadata": {},
   "source": [
    "## Unders and Dunders\n",
    "You might often hear the term dunder in python. This is typically a short cut for things like __myvar or __myvar__ but what does that mean? Does python take those underscores and double underscores into account. The answer to that is well, it depends. \n",
    "\n",
    "Lets start by looking at the different ways this might look\n",
    "1. _myvar or _myfunc\n",
    "2. __myvar or __myfunc\n",
    "3. __myvar__ or __myfunc__\n",
    "4. myvar_ or myfunc_\n",
    "5. _\n",
    "\n"
   ]
  },
  {
   "cell_type": "code",
   "execution_count": null,
   "metadata": {},
   "outputs": [],
   "source": []
  },
  {
   "cell_type": "markdown",
   "metadata": {},
   "source": []
  },
  {
   "cell_type": "code",
   "execution_count": null,
   "metadata": {},
   "outputs": [],
   "source": []
  },
  {
   "cell_type": "markdown",
   "metadata": {},
   "source": []
  }
 ],
 "metadata": {
  "kernelspec": {
   "display_name": "Python 3",
   "language": "python",
   "name": "python3"
  },
  "language_info": {
   "codemirror_mode": {
    "name": "ipython",
    "version": 3
   },
   "file_extension": ".py",
   "mimetype": "text/x-python",
   "name": "python",
   "nbconvert_exporter": "python",
   "pygments_lexer": "ipython3",
   "version": "3.7.4"
  }
 },
 "nbformat": 4,
 "nbformat_minor": 2
}
