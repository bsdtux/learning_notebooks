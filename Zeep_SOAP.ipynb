{
 "cells": [
  {
   "cell_type": "markdown",
   "metadata": {},
   "source": [
    "# ZEEP and SOAP\n",
    "This notebook contains information about zeep, requests, and using zeep to connect to soap. It provides working examples of using zeep "
   ]
  },
  {
   "cell_type": "code",
   "execution_count": null,
   "metadata": {},
   "outputs": [],
   "source": [
    "import requests\n",
    "import zeep\n",
    "URL = 'http://www.dneonline.com/calculator.asmx?wsdl'"
   ]
  },
  {
   "cell_type": "code",
   "execution_count": null,
   "metadata": {},
   "outputs": [],
   "source": [
    "client = zeep.Client(wsdl=URL)\n",
    "print(client.service.Add(10, 10))\n",
    "print(client.service.Subtract(10, 20))"
   ]
  },
  {
   "cell_type": "code",
   "execution_count": null,
   "metadata": {},
   "outputs": [],
   "source": [
    "\"\"\"ZEEP NOTES\"\"\"\n",
    "\n",
    "'''\n",
    "python -mzeep <wsdl>\n",
    "    This will print out the spec for that wsdl file. Great way to see the contract of that \n",
    "    wsdl\n",
    "'''\n",
    "\n",
    "'''\n",
    "Two SOAP Versions\n",
    "    v1.1\n",
    "    v1.2\n",
    "'''\n",
    "\n",
    "'''\n",
    "Zeep allows for creation or edition of the transport. This will help faciliate things like\n",
    "cache or TLS / SSL \n",
    "'''"
   ]
  }
 ],
 "metadata": {
  "kernelspec": {
   "display_name": "Python 3",
   "language": "python",
   "name": "python3"
  },
  "language_info": {
   "codemirror_mode": {
    "name": "ipython",
    "version": 3
   },
   "file_extension": ".py",
   "mimetype": "text/x-python",
   "name": "python",
   "nbconvert_exporter": "python",
   "pygments_lexer": "ipython3",
   "version": "3.7.0"
  }
 },
 "nbformat": 4,
 "nbformat_minor": 2
}
